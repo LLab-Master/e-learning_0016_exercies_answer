{
 "cells": [
  {
   "cell_type": "markdown",
   "metadata": {},
   "source": [
    "# 演習問題2\n",
    "\n",
    "2020年までの台風の発生数をCSVファイルにしてあります。このファイルを読み込んで以下の2つのDataFrameを作ってください。\n",
    "\n",
    "1. 年間の発生数の多い年から順に並べ替えてください。\n",
    "2. 各月毎に平均の発生数、最大発生数とそれが何年かを示す表を作ってください。  \n",
    "列名は'月'、'平均'、'最大発生数'、'発生年'\n",
    "行は1月から12月まで  \n",
    "とします。"
   ]
  },
  {
   "cell_type": "code",
   "execution_count": 5,
   "metadata": {},
   "outputs": [
    {
     "data": {
      "text/html": "<div>\n<style scoped>\n    .dataframe tbody tr th:only-of-type {\n        vertical-align: middle;\n    }\n\n    .dataframe tbody tr th {\n        vertical-align: top;\n    }\n\n    .dataframe thead th {\n        text-align: right;\n    }\n</style>\n<table border=\"1\" class=\"dataframe\">\n  <thead>\n    <tr style=\"text-align: right;\">\n      <th></th>\n      <th>年</th>\n      <th>1月</th>\n      <th>2月</th>\n      <th>3月</th>\n      <th>4月</th>\n      <th>5月</th>\n      <th>6月</th>\n      <th>7月</th>\n      <th>8月</th>\n      <th>9月</th>\n      <th>10月</th>\n      <th>11月</th>\n      <th>12月</th>\n      <th>年間</th>\n    </tr>\n  </thead>\n  <tbody>\n    <tr>\n      <th>0</th>\n      <td>1951</td>\n      <td>NaN</td>\n      <td>1.0</td>\n      <td>1.0</td>\n      <td>2.0</td>\n      <td>1.0</td>\n      <td>1.0</td>\n      <td>3.0</td>\n      <td>3</td>\n      <td>2</td>\n      <td>4</td>\n      <td>1.0</td>\n      <td>2.0</td>\n      <td>21</td>\n    </tr>\n    <tr>\n      <th>1</th>\n      <td>1952</td>\n      <td>NaN</td>\n      <td>NaN</td>\n      <td>NaN</td>\n      <td>NaN</td>\n      <td>NaN</td>\n      <td>3.0</td>\n      <td>3.0</td>\n      <td>5</td>\n      <td>3</td>\n      <td>6</td>\n      <td>3.0</td>\n      <td>4.0</td>\n      <td>27</td>\n    </tr>\n    <tr>\n      <th>2</th>\n      <td>1953</td>\n      <td>NaN</td>\n      <td>1.0</td>\n      <td>NaN</td>\n      <td>NaN</td>\n      <td>1.0</td>\n      <td>2.0</td>\n      <td>1.0</td>\n      <td>6</td>\n      <td>3</td>\n      <td>5</td>\n      <td>3.0</td>\n      <td>1.0</td>\n      <td>23</td>\n    </tr>\n    <tr>\n      <th>3</th>\n      <td>1954</td>\n      <td>NaN</td>\n      <td>NaN</td>\n      <td>1.0</td>\n      <td>NaN</td>\n      <td>1.0</td>\n      <td>NaN</td>\n      <td>1.0</td>\n      <td>5</td>\n      <td>5</td>\n      <td>4</td>\n      <td>3.0</td>\n      <td>1.0</td>\n      <td>21</td>\n    </tr>\n    <tr>\n      <th>4</th>\n      <td>1955</td>\n      <td>1.0</td>\n      <td>1.0</td>\n      <td>1.0</td>\n      <td>1.0</td>\n      <td>NaN</td>\n      <td>2.0</td>\n      <td>7.0</td>\n      <td>6</td>\n      <td>4</td>\n      <td>3</td>\n      <td>1.0</td>\n      <td>1.0</td>\n      <td>28</td>\n    </tr>\n    <tr>\n      <th>...</th>\n      <td>...</td>\n      <td>...</td>\n      <td>...</td>\n      <td>...</td>\n      <td>...</td>\n      <td>...</td>\n      <td>...</td>\n      <td>...</td>\n      <td>...</td>\n      <td>...</td>\n      <td>...</td>\n      <td>...</td>\n      <td>...</td>\n      <td>...</td>\n    </tr>\n    <tr>\n      <th>65</th>\n      <td>2016</td>\n      <td>NaN</td>\n      <td>NaN</td>\n      <td>NaN</td>\n      <td>NaN</td>\n      <td>NaN</td>\n      <td>NaN</td>\n      <td>4.0</td>\n      <td>7</td>\n      <td>7</td>\n      <td>4</td>\n      <td>3.0</td>\n      <td>1.0</td>\n      <td>26</td>\n    </tr>\n    <tr>\n      <th>66</th>\n      <td>2017</td>\n      <td>NaN</td>\n      <td>NaN</td>\n      <td>NaN</td>\n      <td>1.0</td>\n      <td>NaN</td>\n      <td>1.0</td>\n      <td>8.0</td>\n      <td>6</td>\n      <td>3</td>\n      <td>3</td>\n      <td>3.0</td>\n      <td>2.0</td>\n      <td>27</td>\n    </tr>\n    <tr>\n      <th>67</th>\n      <td>2018</td>\n      <td>1.0</td>\n      <td>1.0</td>\n      <td>1.0</td>\n      <td>NaN</td>\n      <td>NaN</td>\n      <td>4.0</td>\n      <td>5.0</td>\n      <td>9</td>\n      <td>4</td>\n      <td>1</td>\n      <td>3.0</td>\n      <td>NaN</td>\n      <td>29</td>\n    </tr>\n    <tr>\n      <th>68</th>\n      <td>2019</td>\n      <td>1.0</td>\n      <td>1.0</td>\n      <td>NaN</td>\n      <td>NaN</td>\n      <td>NaN</td>\n      <td>1.0</td>\n      <td>4.0</td>\n      <td>5</td>\n      <td>6</td>\n      <td>4</td>\n      <td>6.0</td>\n      <td>1.0</td>\n      <td>29</td>\n    </tr>\n    <tr>\n      <th>69</th>\n      <td>2020</td>\n      <td>NaN</td>\n      <td>NaN</td>\n      <td>NaN</td>\n      <td>NaN</td>\n      <td>1.0</td>\n      <td>1.0</td>\n      <td>NaN</td>\n      <td>8</td>\n      <td>3</td>\n      <td>6</td>\n      <td>3.0</td>\n      <td>1.0</td>\n      <td>23</td>\n    </tr>\n  </tbody>\n</table>\n<p>70 rows × 14 columns</p>\n</div>",
      "text/plain": "       年   1月   2月   3月   4月   5月   6月   7月  8月  9月  10月  11月  12月  年間\n0   1951  NaN  1.0  1.0  2.0  1.0  1.0  3.0   3   2    4  1.0  2.0  21\n1   1952  NaN  NaN  NaN  NaN  NaN  3.0  3.0   5   3    6  3.0  4.0  27\n2   1953  NaN  1.0  NaN  NaN  1.0  2.0  1.0   6   3    5  3.0  1.0  23\n3   1954  NaN  NaN  1.0  NaN  1.0  NaN  1.0   5   5    4  3.0  1.0  21\n4   1955  1.0  1.0  1.0  1.0  NaN  2.0  7.0   6   4    3  1.0  1.0  28\n..   ...  ...  ...  ...  ...  ...  ...  ...  ..  ..  ...  ...  ...  ..\n65  2016  NaN  NaN  NaN  NaN  NaN  NaN  4.0   7   7    4  3.0  1.0  26\n66  2017  NaN  NaN  NaN  1.0  NaN  1.0  8.0   6   3    3  3.0  2.0  27\n67  2018  1.0  1.0  1.0  NaN  NaN  4.0  5.0   9   4    1  3.0  NaN  29\n68  2019  1.0  1.0  NaN  NaN  NaN  1.0  4.0   5   6    4  6.0  1.0  29\n69  2020  NaN  NaN  NaN  NaN  1.0  1.0  NaN   8   3    6  3.0  1.0  23\n\n[70 rows x 14 columns]"
     },
     "execution_count": 5,
     "metadata": {},
     "output_type": "execute_result"
    }
   ],
   "source": [
    "import pandas as pd\n",
    "\n",
    "df_csv = pd.read_csv('generation.csv', encoding='shift_jis')\n",
    "df_csv"
   ]
  },
  {
   "cell_type": "code",
   "execution_count": 30,
   "metadata": {},
   "outputs": [
    {
     "data": {
      "text/html": "<div>\n<style scoped>\n    .dataframe tbody tr th:only-of-type {\n        vertical-align: middle;\n    }\n\n    .dataframe tbody tr th {\n        vertical-align: top;\n    }\n\n    .dataframe thead th {\n        text-align: right;\n    }\n</style>\n<table border=\"1\" class=\"dataframe\">\n  <thead>\n    <tr style=\"text-align: right;\">\n      <th></th>\n      <th>年</th>\n      <th>1月</th>\n      <th>2月</th>\n      <th>3月</th>\n      <th>4月</th>\n      <th>5月</th>\n      <th>6月</th>\n      <th>7月</th>\n      <th>8月</th>\n      <th>9月</th>\n      <th>10月</th>\n      <th>11月</th>\n      <th>12月</th>\n      <th>年間</th>\n    </tr>\n  </thead>\n  <tbody>\n    <tr>\n      <th>0</th>\n      <td>1951</td>\n      <td>0</td>\n      <td>1</td>\n      <td>1</td>\n      <td>2</td>\n      <td>1</td>\n      <td>1</td>\n      <td>3</td>\n      <td>3</td>\n      <td>2</td>\n      <td>4</td>\n      <td>1</td>\n      <td>2</td>\n      <td>21</td>\n    </tr>\n    <tr>\n      <th>1</th>\n      <td>1952</td>\n      <td>0</td>\n      <td>0</td>\n      <td>0</td>\n      <td>0</td>\n      <td>0</td>\n      <td>3</td>\n      <td>3</td>\n      <td>5</td>\n      <td>3</td>\n      <td>6</td>\n      <td>3</td>\n      <td>4</td>\n      <td>27</td>\n    </tr>\n    <tr>\n      <th>2</th>\n      <td>1953</td>\n      <td>0</td>\n      <td>1</td>\n      <td>0</td>\n      <td>0</td>\n      <td>1</td>\n      <td>2</td>\n      <td>1</td>\n      <td>6</td>\n      <td>3</td>\n      <td>5</td>\n      <td>3</td>\n      <td>1</td>\n      <td>23</td>\n    </tr>\n    <tr>\n      <th>3</th>\n      <td>1954</td>\n      <td>0</td>\n      <td>0</td>\n      <td>1</td>\n      <td>0</td>\n      <td>1</td>\n      <td>0</td>\n      <td>1</td>\n      <td>5</td>\n      <td>5</td>\n      <td>4</td>\n      <td>3</td>\n      <td>1</td>\n      <td>21</td>\n    </tr>\n    <tr>\n      <th>4</th>\n      <td>1955</td>\n      <td>1</td>\n      <td>1</td>\n      <td>1</td>\n      <td>1</td>\n      <td>0</td>\n      <td>2</td>\n      <td>7</td>\n      <td>6</td>\n      <td>4</td>\n      <td>3</td>\n      <td>1</td>\n      <td>1</td>\n      <td>28</td>\n    </tr>\n    <tr>\n      <th>...</th>\n      <td>...</td>\n      <td>...</td>\n      <td>...</td>\n      <td>...</td>\n      <td>...</td>\n      <td>...</td>\n      <td>...</td>\n      <td>...</td>\n      <td>...</td>\n      <td>...</td>\n      <td>...</td>\n      <td>...</td>\n      <td>...</td>\n      <td>...</td>\n    </tr>\n    <tr>\n      <th>65</th>\n      <td>2016</td>\n      <td>0</td>\n      <td>0</td>\n      <td>0</td>\n      <td>0</td>\n      <td>0</td>\n      <td>0</td>\n      <td>4</td>\n      <td>7</td>\n      <td>7</td>\n      <td>4</td>\n      <td>3</td>\n      <td>1</td>\n      <td>26</td>\n    </tr>\n    <tr>\n      <th>66</th>\n      <td>2017</td>\n      <td>0</td>\n      <td>0</td>\n      <td>0</td>\n      <td>1</td>\n      <td>0</td>\n      <td>1</td>\n      <td>8</td>\n      <td>6</td>\n      <td>3</td>\n      <td>3</td>\n      <td>3</td>\n      <td>2</td>\n      <td>27</td>\n    </tr>\n    <tr>\n      <th>67</th>\n      <td>2018</td>\n      <td>1</td>\n      <td>1</td>\n      <td>1</td>\n      <td>0</td>\n      <td>0</td>\n      <td>4</td>\n      <td>5</td>\n      <td>9</td>\n      <td>4</td>\n      <td>1</td>\n      <td>3</td>\n      <td>0</td>\n      <td>29</td>\n    </tr>\n    <tr>\n      <th>68</th>\n      <td>2019</td>\n      <td>1</td>\n      <td>1</td>\n      <td>0</td>\n      <td>0</td>\n      <td>0</td>\n      <td>1</td>\n      <td>4</td>\n      <td>5</td>\n      <td>6</td>\n      <td>4</td>\n      <td>6</td>\n      <td>1</td>\n      <td>29</td>\n    </tr>\n    <tr>\n      <th>69</th>\n      <td>2020</td>\n      <td>0</td>\n      <td>0</td>\n      <td>0</td>\n      <td>0</td>\n      <td>1</td>\n      <td>1</td>\n      <td>0</td>\n      <td>8</td>\n      <td>3</td>\n      <td>6</td>\n      <td>3</td>\n      <td>1</td>\n      <td>23</td>\n    </tr>\n  </tbody>\n</table>\n<p>70 rows × 14 columns</p>\n</div>",
      "text/plain": "       年  1月  2月  3月  4月  5月  6月  7月  8月  9月  10月  11月  12月  年間\n0   1951   0   1   1   2   1   1   3   3   2    4    1    2  21\n1   1952   0   0   0   0   0   3   3   5   3    6    3    4  27\n2   1953   0   1   0   0   1   2   1   6   3    5    3    1  23\n3   1954   0   0   1   0   1   0   1   5   5    4    3    1  21\n4   1955   1   1   1   1   0   2   7   6   4    3    1    1  28\n..   ...  ..  ..  ..  ..  ..  ..  ..  ..  ..  ...  ...  ...  ..\n65  2016   0   0   0   0   0   0   4   7   7    4    3    1  26\n66  2017   0   0   0   1   0   1   8   6   3    3    3    2  27\n67  2018   1   1   1   0   0   4   5   9   4    1    3    0  29\n68  2019   1   1   0   0   0   1   4   5   6    4    6    1  29\n69  2020   0   0   0   0   1   1   0   8   3    6    3    1  23\n\n[70 rows x 14 columns]"
     },
     "execution_count": 30,
     "metadata": {},
     "output_type": "execute_result"
    }
   ],
   "source": [
    "# 欠損値を0\bで穴埋め\n",
    "df_filled = df_csv.fillna(0)\n",
    "\n",
    "# 要素を整数にそろえておく\n",
    "df_int = df_filled.astype('int')\n",
    "df_int"
   ]
  },
  {
   "cell_type": "code",
   "execution_count": 31,
   "metadata": {},
   "outputs": [
    {
     "data": {
      "text/html": "<div>\n<style scoped>\n    .dataframe tbody tr th:only-of-type {\n        vertical-align: middle;\n    }\n\n    .dataframe tbody tr th {\n        vertical-align: top;\n    }\n\n    .dataframe thead th {\n        text-align: right;\n    }\n</style>\n<table border=\"1\" class=\"dataframe\">\n  <thead>\n    <tr style=\"text-align: right;\">\n      <th></th>\n      <th>年</th>\n      <th>1月</th>\n      <th>2月</th>\n      <th>3月</th>\n      <th>4月</th>\n      <th>5月</th>\n      <th>6月</th>\n      <th>7月</th>\n      <th>8月</th>\n      <th>9月</th>\n      <th>10月</th>\n      <th>11月</th>\n      <th>12月</th>\n      <th>年間</th>\n    </tr>\n  </thead>\n  <tbody>\n    <tr>\n      <th>16</th>\n      <td>1967</td>\n      <td>0</td>\n      <td>1</td>\n      <td>2</td>\n      <td>1</td>\n      <td>1</td>\n      <td>1</td>\n      <td>7</td>\n      <td>9</td>\n      <td>9</td>\n      <td>4</td>\n      <td>3</td>\n      <td>1</td>\n      <td>39</td>\n    </tr>\n    <tr>\n      <th>43</th>\n      <td>1994</td>\n      <td>0</td>\n      <td>0</td>\n      <td>0</td>\n      <td>1</td>\n      <td>1</td>\n      <td>2</td>\n      <td>7</td>\n      <td>9</td>\n      <td>8</td>\n      <td>6</td>\n      <td>0</td>\n      <td>2</td>\n      <td>36</td>\n    </tr>\n    <tr>\n      <th>20</th>\n      <td>1971</td>\n      <td>1</td>\n      <td>0</td>\n      <td>1</td>\n      <td>3</td>\n      <td>4</td>\n      <td>2</td>\n      <td>8</td>\n      <td>5</td>\n      <td>6</td>\n      <td>4</td>\n      <td>2</td>\n      <td>0</td>\n      <td>36</td>\n    </tr>\n    <tr>\n      <th>15</th>\n      <td>1966</td>\n      <td>0</td>\n      <td>0</td>\n      <td>0</td>\n      <td>1</td>\n      <td>2</td>\n      <td>1</td>\n      <td>4</td>\n      <td>10</td>\n      <td>9</td>\n      <td>5</td>\n      <td>2</td>\n      <td>1</td>\n      <td>35</td>\n    </tr>\n    <tr>\n      <th>13</th>\n      <td>1964</td>\n      <td>0</td>\n      <td>0</td>\n      <td>0</td>\n      <td>0</td>\n      <td>2</td>\n      <td>2</td>\n      <td>7</td>\n      <td>5</td>\n      <td>6</td>\n      <td>5</td>\n      <td>6</td>\n      <td>1</td>\n      <td>34</td>\n    </tr>\n    <tr>\n      <th>...</th>\n      <td>...</td>\n      <td>...</td>\n      <td>...</td>\n      <td>...</td>\n      <td>...</td>\n      <td>...</td>\n      <td>...</td>\n      <td>...</td>\n      <td>...</td>\n      <td>...</td>\n      <td>...</td>\n      <td>...</td>\n      <td>...</td>\n      <td>...</td>\n    </tr>\n    <tr>\n      <th>52</th>\n      <td>2003</td>\n      <td>1</td>\n      <td>0</td>\n      <td>0</td>\n      <td>1</td>\n      <td>2</td>\n      <td>2</td>\n      <td>2</td>\n      <td>5</td>\n      <td>3</td>\n      <td>3</td>\n      <td>2</td>\n      <td>0</td>\n      <td>21</td>\n    </tr>\n    <tr>\n      <th>0</th>\n      <td>1951</td>\n      <td>0</td>\n      <td>1</td>\n      <td>1</td>\n      <td>2</td>\n      <td>1</td>\n      <td>1</td>\n      <td>3</td>\n      <td>3</td>\n      <td>2</td>\n      <td>4</td>\n      <td>1</td>\n      <td>2</td>\n      <td>21</td>\n    </tr>\n    <tr>\n      <th>18</th>\n      <td>1969</td>\n      <td>1</td>\n      <td>0</td>\n      <td>1</td>\n      <td>1</td>\n      <td>0</td>\n      <td>0</td>\n      <td>3</td>\n      <td>4</td>\n      <td>3</td>\n      <td>3</td>\n      <td>2</td>\n      <td>1</td>\n      <td>19</td>\n    </tr>\n    <tr>\n      <th>47</th>\n      <td>1998</td>\n      <td>0</td>\n      <td>0</td>\n      <td>0</td>\n      <td>0</td>\n      <td>0</td>\n      <td>0</td>\n      <td>1</td>\n      <td>3</td>\n      <td>5</td>\n      <td>2</td>\n      <td>3</td>\n      <td>2</td>\n      <td>16</td>\n    </tr>\n    <tr>\n      <th>59</th>\n      <td>2010</td>\n      <td>0</td>\n      <td>0</td>\n      <td>1</td>\n      <td>0</td>\n      <td>0</td>\n      <td>0</td>\n      <td>2</td>\n      <td>5</td>\n      <td>4</td>\n      <td>2</td>\n      <td>0</td>\n      <td>0</td>\n      <td>14</td>\n    </tr>\n  </tbody>\n</table>\n<p>70 rows × 14 columns</p>\n</div>",
      "text/plain": "       年  1月  2月  3月  4月  5月  6月  7月  8月  9月  10月  11月  12月  年間\n16  1967   0   1   2   1   1   1   7   9   9    4    3    1  39\n43  1994   0   0   0   1   1   2   7   9   8    6    0    2  36\n20  1971   1   0   1   3   4   2   8   5   6    4    2    0  36\n15  1966   0   0   0   1   2   1   4  10   9    5    2    1  35\n13  1964   0   0   0   0   2   2   7   5   6    5    6    1  34\n..   ...  ..  ..  ..  ..  ..  ..  ..  ..  ..  ...  ...  ...  ..\n52  2003   1   0   0   1   2   2   2   5   3    3    2    0  21\n0   1951   0   1   1   2   1   1   3   3   2    4    1    2  21\n18  1969   1   0   1   1   0   0   3   4   3    3    2    1  19\n47  1998   0   0   0   0   0   0   1   3   5    2    3    2  16\n59  2010   0   0   1   0   0   0   2   5   4    2    0    0  14\n\n[70 rows x 14 columns]"
     },
     "execution_count": 31,
     "metadata": {},
     "output_type": "execute_result"
    }
   ],
   "source": [
    "\n",
    "# '年間' で降順にソート\n",
    "df_sorted = df_int.sort_values(by='年間', ascending=False)\n",
    "df_sorted"
   ]
  },
  {
   "cell_type": "code",
   "execution_count": 37,
   "metadata": {},
   "outputs": [
    {
     "data": {
      "text/plain": "['1月', '2月', '3月', '4月', '5月', '6月', '7月', '8月', '9月', '10月', '11月', '12月']"
     },
     "execution_count": 37,
     "metadata": {},
     "output_type": "execute_result"
    }
   ],
   "source": [
    "# 月名をリストにしておく\n",
    "month_list = [str(n) + '月' for n in range(1, 13)]\n",
    "month_list\n"
   ]
  },
  {
   "cell_type": "code",
   "execution_count": 38,
   "metadata": {},
   "outputs": [
    {
     "data": {
      "text/html": "<div>\n<style scoped>\n    .dataframe tbody tr th:only-of-type {\n        vertical-align: middle;\n    }\n\n    .dataframe tbody tr th {\n        vertical-align: top;\n    }\n\n    .dataframe thead th {\n        text-align: right;\n    }\n</style>\n<table border=\"1\" class=\"dataframe\">\n  <thead>\n    <tr style=\"text-align: right;\">\n      <th></th>\n      <th>1月</th>\n      <th>2月</th>\n      <th>3月</th>\n      <th>4月</th>\n      <th>5月</th>\n      <th>6月</th>\n      <th>7月</th>\n      <th>8月</th>\n      <th>9月</th>\n      <th>10月</th>\n      <th>11月</th>\n      <th>12月</th>\n    </tr>\n  </thead>\n  <tbody>\n    <tr>\n      <th>0</th>\n      <td>0</td>\n      <td>1</td>\n      <td>1</td>\n      <td>2</td>\n      <td>1</td>\n      <td>1</td>\n      <td>3</td>\n      <td>3</td>\n      <td>2</td>\n      <td>4</td>\n      <td>1</td>\n      <td>2</td>\n    </tr>\n    <tr>\n      <th>1</th>\n      <td>0</td>\n      <td>0</td>\n      <td>0</td>\n      <td>0</td>\n      <td>0</td>\n      <td>3</td>\n      <td>3</td>\n      <td>5</td>\n      <td>3</td>\n      <td>6</td>\n      <td>3</td>\n      <td>4</td>\n    </tr>\n    <tr>\n      <th>2</th>\n      <td>0</td>\n      <td>1</td>\n      <td>0</td>\n      <td>0</td>\n      <td>1</td>\n      <td>2</td>\n      <td>1</td>\n      <td>6</td>\n      <td>3</td>\n      <td>5</td>\n      <td>3</td>\n      <td>1</td>\n    </tr>\n    <tr>\n      <th>3</th>\n      <td>0</td>\n      <td>0</td>\n      <td>1</td>\n      <td>0</td>\n      <td>1</td>\n      <td>0</td>\n      <td>1</td>\n      <td>5</td>\n      <td>5</td>\n      <td>4</td>\n      <td>3</td>\n      <td>1</td>\n    </tr>\n    <tr>\n      <th>4</th>\n      <td>1</td>\n      <td>1</td>\n      <td>1</td>\n      <td>1</td>\n      <td>0</td>\n      <td>2</td>\n      <td>7</td>\n      <td>6</td>\n      <td>4</td>\n      <td>3</td>\n      <td>1</td>\n      <td>1</td>\n    </tr>\n    <tr>\n      <th>...</th>\n      <td>...</td>\n      <td>...</td>\n      <td>...</td>\n      <td>...</td>\n      <td>...</td>\n      <td>...</td>\n      <td>...</td>\n      <td>...</td>\n      <td>...</td>\n      <td>...</td>\n      <td>...</td>\n      <td>...</td>\n    </tr>\n    <tr>\n      <th>65</th>\n      <td>0</td>\n      <td>0</td>\n      <td>0</td>\n      <td>0</td>\n      <td>0</td>\n      <td>0</td>\n      <td>4</td>\n      <td>7</td>\n      <td>7</td>\n      <td>4</td>\n      <td>3</td>\n      <td>1</td>\n    </tr>\n    <tr>\n      <th>66</th>\n      <td>0</td>\n      <td>0</td>\n      <td>0</td>\n      <td>1</td>\n      <td>0</td>\n      <td>1</td>\n      <td>8</td>\n      <td>6</td>\n      <td>3</td>\n      <td>3</td>\n      <td>3</td>\n      <td>2</td>\n    </tr>\n    <tr>\n      <th>67</th>\n      <td>1</td>\n      <td>1</td>\n      <td>1</td>\n      <td>0</td>\n      <td>0</td>\n      <td>4</td>\n      <td>5</td>\n      <td>9</td>\n      <td>4</td>\n      <td>1</td>\n      <td>3</td>\n      <td>0</td>\n    </tr>\n    <tr>\n      <th>68</th>\n      <td>1</td>\n      <td>1</td>\n      <td>0</td>\n      <td>0</td>\n      <td>0</td>\n      <td>1</td>\n      <td>4</td>\n      <td>5</td>\n      <td>6</td>\n      <td>4</td>\n      <td>6</td>\n      <td>1</td>\n    </tr>\n    <tr>\n      <th>69</th>\n      <td>0</td>\n      <td>0</td>\n      <td>0</td>\n      <td>0</td>\n      <td>1</td>\n      <td>1</td>\n      <td>0</td>\n      <td>8</td>\n      <td>3</td>\n      <td>6</td>\n      <td>3</td>\n      <td>1</td>\n    </tr>\n  </tbody>\n</table>\n<p>70 rows × 12 columns</p>\n</div>",
      "text/plain": "    1月  2月  3月  4月  5月  6月  7月  8月  9月  10月  11月  12月\n0    0   1   1   2   1   1   3   3   2    4    1    2\n1    0   0   0   0   0   3   3   5   3    6    3    4\n2    0   1   0   0   1   2   1   6   3    5    3    1\n3    0   0   1   0   1   0   1   5   5    4    3    1\n4    1   1   1   1   0   2   7   6   4    3    1    1\n..  ..  ..  ..  ..  ..  ..  ..  ..  ..  ...  ...  ...\n65   0   0   0   0   0   0   4   7   7    4    3    1\n66   0   0   0   1   0   1   8   6   3    3    3    2\n67   1   1   1   0   0   4   5   9   4    1    3    0\n68   1   1   0   0   0   1   4   5   6    4    6    1\n69   0   0   0   0   1   1   0   8   3    6    3    1\n\n[70 rows x 12 columns]"
     },
     "execution_count": 38,
     "metadata": {},
     "output_type": "execute_result"
    }
   ],
   "source": [
    "# 月部分だけDataFrame にする\n",
    "df_month = df_int[month_list]\n",
    "df_month\n"
   ]
  },
  {
   "cell_type": "code",
   "execution_count": 39,
   "metadata": {},
   "outputs": [
    {
     "data": {
      "text/plain": "1月     0.442857\n2月     0.257143\n3月     0.385714\n4月     0.685714\n5月     1.000000\n6月     1.771429\n7月     3.857143\n8月     5.571429\n9月     4.914286\n10月    3.757143\n11月    2.400000\n12月    1.157143\ndtype: float64"
     },
     "execution_count": 39,
     "metadata": {},
     "output_type": "execute_result"
    }
   ],
   "source": [
    "# 月毎の平均\n",
    "s_mean = df_month.mean()\n",
    "s_mean\n"
   ]
  },
  {
   "cell_type": "code",
   "execution_count": 41,
   "metadata": {},
   "outputs": [
    {
     "data": {
      "text/plain": "1月      2\n2月      1\n3月      3\n4月      3\n5月      4\n6月      5\n7月      8\n8月     10\n9月      9\n10月     7\n11月     6\n12月     4\ndtype: int64"
     },
     "execution_count": 41,
     "metadata": {},
     "output_type": "execute_result"
    }
   ],
   "source": [
    "# 月ごとの最大値\n",
    "s_max = df_month.max()\n",
    "s_max\n"
   ]
  },
  {
   "cell_type": "code",
   "execution_count": 42,
   "metadata": {},
   "outputs": [
    {
     "data": {
      "text/plain": "6     1957\n0     1951\n31    1982\n20    1971\n20    1971\n53    2004\n20    1971\n9     1960\n15    1966\n33    1984\n13    1964\n1     1952\nName: 年, dtype: int64"
     },
     "execution_count": 42,
     "metadata": {},
     "output_type": "execute_result"
    }
   ],
   "source": [
    "# 最大値の年\n",
    "s_idxmax = df_month.idxmax()\n",
    "s_year = df_int.loc[s_idxmax, '年']\n",
    "s_year"
   ]
  },
  {
   "cell_type": "code",
   "execution_count": 19,
   "metadata": {},
   "outputs": [
    {
     "data": {
      "text/html": "<div>\n<style scoped>\n    .dataframe tbody tr th:only-of-type {\n        vertical-align: middle;\n    }\n\n    .dataframe tbody tr th {\n        vertical-align: top;\n    }\n\n    .dataframe thead th {\n        text-align: right;\n    }\n</style>\n<table border=\"1\" class=\"dataframe\">\n  <thead>\n    <tr style=\"text-align: right;\">\n      <th></th>\n      <th>月</th>\n      <th>平均</th>\n      <th>最大発生数</th>\n      <th>発生年</th>\n    </tr>\n  </thead>\n  <tbody>\n    <tr>\n      <th>0</th>\n      <td>1月</td>\n      <td>0.442857</td>\n      <td>2</td>\n      <td>1957</td>\n    </tr>\n    <tr>\n      <th>1</th>\n      <td>2月</td>\n      <td>0.257143</td>\n      <td>1</td>\n      <td>1951</td>\n    </tr>\n    <tr>\n      <th>2</th>\n      <td>3月</td>\n      <td>0.385714</td>\n      <td>3</td>\n      <td>1982</td>\n    </tr>\n    <tr>\n      <th>3</th>\n      <td>4月</td>\n      <td>0.685714</td>\n      <td>3</td>\n      <td>1971</td>\n    </tr>\n    <tr>\n      <th>4</th>\n      <td>5月</td>\n      <td>1.0</td>\n      <td>4</td>\n      <td>1971</td>\n    </tr>\n    <tr>\n      <th>5</th>\n      <td>6月</td>\n      <td>1.771429</td>\n      <td>5</td>\n      <td>2004</td>\n    </tr>\n    <tr>\n      <th>6</th>\n      <td>7月</td>\n      <td>3.857143</td>\n      <td>8</td>\n      <td>1971</td>\n    </tr>\n    <tr>\n      <th>7</th>\n      <td>8月</td>\n      <td>5.571429</td>\n      <td>10</td>\n      <td>1960</td>\n    </tr>\n    <tr>\n      <th>8</th>\n      <td>9月</td>\n      <td>4.914286</td>\n      <td>9</td>\n      <td>1966</td>\n    </tr>\n    <tr>\n      <th>9</th>\n      <td>10月</td>\n      <td>3.757143</td>\n      <td>7</td>\n      <td>1984</td>\n    </tr>\n    <tr>\n      <th>10</th>\n      <td>11月</td>\n      <td>2.4</td>\n      <td>6</td>\n      <td>1964</td>\n    </tr>\n    <tr>\n      <th>11</th>\n      <td>12月</td>\n      <td>1.157143</td>\n      <td>4</td>\n      <td>1952</td>\n    </tr>\n  </tbody>\n</table>\n</div>",
      "text/plain": "      月        平均 最大発生数   発生年\n0    1月  0.442857     2  1957\n1    2月  0.257143     1  1951\n2    3月  0.385714     3  1982\n3    4月  0.685714     3  1971\n4    5月       1.0     4  1971\n5    6月  1.771429     5  2004\n6    7月  3.857143     8  1971\n7    8月  5.571429    10  1960\n8    9月  4.914286     9  1966\n9   10月  3.757143     7  1984\n10  11月       2.4     6  1964\n11  12月  1.157143     4  1952"
     },
     "execution_count": 19,
     "metadata": {},
     "output_type": "execute_result"
    }
   ],
   "source": [
    "# 新しいDataFrameを作る\n",
    "df_summary = pd.DataFrame([month_list, s_mean.values, s_max.values, s_year.values]).T\n",
    "df_summary.columns=['月', '平均', '最大発生数', '発生年']\n",
    "df_summary"
   ]
  }
 ],
 "metadata": {
  "kernelspec": {
   "display_name": "Python 3.8.5 64-bit ('base': conda)",
   "name": "python385jvsc74a57bd05e4d6bc0a7e36aad0e919ec0bd295450115234352736602d6fa1da166e08ecc0"
  },
  "language_info": {
   "codemirror_mode": {
    "name": "ipython",
    "version": 3
   },
   "file_extension": ".py",
   "mimetype": "text/x-python",
   "name": "python",
   "nbconvert_exporter": "python",
   "pygments_lexer": "ipython3",
   "version": "3.8.5"
  },
  "orig_nbformat": 2
 },
 "nbformat": 4,
 "nbformat_minor": 2
}